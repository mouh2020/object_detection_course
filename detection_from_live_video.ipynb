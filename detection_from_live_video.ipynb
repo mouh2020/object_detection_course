{
 "cells": [
  {
   "cell_type": "markdown",
   "id": "ac838238",
   "metadata": {},
   "source": [
    "# Import libraries"
   ]
  },
  {
   "cell_type": "code",
   "execution_count": null,
   "id": "6d1ee7c6",
   "metadata": {},
   "outputs": [],
   "source": [
    "from imageai.Detection import VideoObjectDetection\n",
    "from alert import send_alert\n",
    "import os , cv2 "
   ]
  },
  {
   "cell_type": "markdown",
   "id": "98d85082",
   "metadata": {},
   "source": [
    "# Run the camera\n"
   ]
  },
  {
   "cell_type": "code",
   "execution_count": null,
   "id": "4688c8e5",
   "metadata": {},
   "outputs": [],
   "source": [
    "camera = cv2.VideoCapture(0)"
   ]
  },
  {
   "cell_type": "markdown",
   "id": "621ceee1",
   "metadata": {},
   "source": [
    "# Process each frame\n"
   ]
  },
  {
   "cell_type": "code",
   "execution_count": null,
   "id": "f628001a",
   "metadata": {},
   "outputs": [],
   "source": [
    "def forFrame(frame_number, output_array, output_count, detected_frame):\n",
    "\n",
    "    #### Display frame\n",
    "    cv2.imshow('frame', detected_frame)\n",
    "    \n",
    "    #### Set q Key to exit the program\n",
    "    if cv2.waitKey(1) == ord('q'):\n",
    "        return"
   ]
  },
  {
   "cell_type": "code",
   "execution_count": null,
   "id": "26fc8adf",
   "metadata": {},
   "outputs": [],
   "source": [
    "    ###### Take an object of detection\n",
    "    detector = VideoObjectDetection()\n",
    "\n",
    "    ###### Set the model type\n",
    "    detector.setModelTypeAsYOLOv3()\n",
    "\n",
    "    ###### Set the model directory    \n",
    "    detector.setModelPath(\"yolo.h5\")\n",
    "\n",
    "    ###### Tell the user that the model is loading\n",
    "    print('\\n - Start loading model ...')\n",
    "\n",
    "    ###### Start loading model\n",
    "    detector.loadModel()\n",
    "    \n",
    "\n",
    "\n",
    "    ###### The objects to be detected on picture\n",
    "    #custom_objects = detector.CustomObjects(bus=True)\n",
    "\n",
    "    ###### Start detection from video\n",
    "    video_path = detector.detectObjectsFromVideo(\n",
    "                                    #custom_objects=custom_objects,\n",
    "                                    camera_input= camera  ,                   #### Set camera as an input\n",
    "                                    output_file_path= \"camera_detected_video\",#### Output of detected video\n",
    "                                    log_progress=True,  \n",
    "                                    frames_per_second=5 ,                     #### FPS of the video\n",
    "                                    return_detected_frame=True,               #### Set to true for displaying the detected frame\n",
    "                                    per_frame_function=forFrame               #### Call forFrame to process each frame\n",
    "                                    )"
   ]
  },
  {
   "cell_type": "markdown",
   "id": "f2ae0ae9",
   "metadata": {},
   "source": [
    "# Take an object of detection"
   ]
  },
  {
   "cell_type": "code",
   "execution_count": null,
   "id": "b3ad36d1",
   "metadata": {},
   "outputs": [],
   "source": [
    "detector = VideoObjectDetection()"
   ]
  },
  {
   "cell_type": "markdown",
   "id": "9fc27b4f",
   "metadata": {},
   "source": [
    "# Set the model type"
   ]
  },
  {
   "cell_type": "code",
   "execution_count": null,
   "id": "1cd3ee5b",
   "metadata": {},
   "outputs": [],
   "source": [
    "detector.setModelTypeAsYOLOv3()"
   ]
  },
  {
   "cell_type": "markdown",
   "id": "01ee1c1b",
   "metadata": {},
   "source": [
    "# Set the model directory "
   ]
  },
  {
   "cell_type": "code",
   "execution_count": null,
   "id": "c1003d81",
   "metadata": {},
   "outputs": [],
   "source": [
    "detector.setModelPath(\"yolo.h5\")"
   ]
  },
  {
   "cell_type": "markdown",
   "id": "7629c5ec",
   "metadata": {},
   "source": [
    "# Tell the user that the model is loading"
   ]
  },
  {
   "cell_type": "code",
   "execution_count": null,
   "id": "6603fe3f",
   "metadata": {},
   "outputs": [],
   "source": [
    "print('\\n - Start loading model ...'"
   ]
  },
  {
   "cell_type": "markdown",
   "id": "35eb61ff",
   "metadata": {},
   "source": [
    "# Start loading model"
   ]
  },
  {
   "cell_type": "code",
   "execution_count": null,
   "id": "324d7d7d",
   "metadata": {},
   "outputs": [],
   "source": [
    "detector.loadModel()"
   ]
  },
  {
   "cell_type": "markdown",
   "id": "87a8a61d",
   "metadata": {},
   "source": [
    "# The objects to be detected on picture"
   ]
  },
  {
   "cell_type": "code",
   "execution_count": 2,
   "id": "edd30574",
   "metadata": {},
   "outputs": [],
   "source": [
    "#custom_objects = detector.CustomObjects(bus=True)"
   ]
  },
  {
   "cell_type": "markdown",
   "id": "49fda170",
   "metadata": {},
   "source": [
    "# Start detection from video"
   ]
  },
  {
   "cell_type": "code",
   "execution_count": null,
   "id": "60897efa",
   "metadata": {},
   "outputs": [],
   "source": [
    "video_path = detector.detectObjectsFromVideo(\n",
    "                                    #custom_objects=custom_objects,\n",
    "                                    camera_input= camera  ,                   #### Set camera as an input\n",
    "                                    output_file_path= \"camera_detected_video\",#### Output of detected video\n",
    "                                    log_progress=True,  \n",
    "                                    frames_per_second=5 ,                     #### FPS of the video\n",
    "                                    return_detected_frame=True,               #### Set to true for displaying the detected frame\n",
    "                                    per_frame_function=forFrame               #### Call forFrame to process each frame\n",
    "                                    "
   ]
  },
  {
   "cell_type": "code",
   "execution_count": null,
   "id": "683eb839",
   "metadata": {},
   "outputs": [],
   "source": []
  },
  {
   "cell_type": "code",
   "execution_count": null,
   "id": "03abcd68",
   "metadata": {},
   "outputs": [],
   "source": []
  }
 ],
 "metadata": {
  "kernelspec": {
   "display_name": "Python 3 (ipykernel)",
   "language": "python",
   "name": "python3"
  },
  "language_info": {
   "codemirror_mode": {
    "name": "ipython",
    "version": 3
   },
   "file_extension": ".py",
   "mimetype": "text/x-python",
   "name": "python",
   "nbconvert_exporter": "python",
   "pygments_lexer": "ipython3",
   "version": "3.8.0"
  }
 },
 "nbformat": 4,
 "nbformat_minor": 5
}
