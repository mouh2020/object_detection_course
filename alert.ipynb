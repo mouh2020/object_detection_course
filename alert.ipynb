{
 "cells": [
  {
   "cell_type": "code",
   "execution_count": 1,
   "id": "539b83ec",
   "metadata": {},
   "outputs": [
    {
     "ename": "ModuleNotFoundError",
     "evalue": "No module named 'telebot'",
     "output_type": "error",
     "traceback": [
      "\u001b[1;31m---------------------------------------------------------------------------\u001b[0m",
      "\u001b[1;31mModuleNotFoundError\u001b[0m                       Traceback (most recent call last)",
      "Cell \u001b[1;32mIn[1], line 1\u001b[0m\n\u001b[1;32m----> 1\u001b[0m \u001b[38;5;28;01mimport\u001b[39;00m \u001b[38;5;21;01mtelebot\u001b[39;00m\n\u001b[0;32m      3\u001b[0m \u001b[38;5;66;03m#### Sign in to our bot\u001b[39;00m\n\u001b[0;32m      4\u001b[0m bot \u001b[38;5;241m=\u001b[39m telebot\u001b[38;5;241m.\u001b[39mTeleBot(\u001b[38;5;124m\"\u001b[39m\u001b[38;5;124m5815731939:AAGL2c-TnnYtZ73jkj2-QLG_FzuB-fRFMsQ\u001b[39m\u001b[38;5;124m\"\u001b[39m)\n",
      "\u001b[1;31mModuleNotFoundError\u001b[0m: No module named 'telebot'"
     ]
    }
   ],
   "source": [
    "import telebot\n",
    "import config\n",
    "\n",
    "#### Sign in to our bot\n",
    "bot = telebot.TeleBot(config.bot_token)\n",
    "\n",
    "def send_alert() :\n",
    "    bot.send_photo(config.telegram_id,open('detected.jpg','rb'))"
   ]
  },
  {
   "cell_type": "code",
   "execution_count": null,
   "id": "282dec33",
   "metadata": {},
   "outputs": [],
   "source": []
  }
 ],
 "metadata": {
  "kernelspec": {
   "display_name": "Python 3 (ipykernel)",
   "language": "python",
   "name": "python3"
  },
  "language_info": {
   "codemirror_mode": {
    "name": "ipython",
    "version": 3
   },
   "file_extension": ".py",
   "mimetype": "text/x-python",
   "name": "python",
   "nbconvert_exporter": "python",
   "pygments_lexer": "ipython3",
   "version": "3.8.0"
  }
 },
 "nbformat": 4,
 "nbformat_minor": 5
}
