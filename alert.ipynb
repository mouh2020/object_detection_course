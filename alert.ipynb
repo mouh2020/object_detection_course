{
 "cells": [
  {
   "cell_type": "code",
   "execution_count": null,
   "id": "7e817b66",
   "metadata": {},
   "outputs": [],
   "source": [
    "import telebot\n",
    "import config\n",
    "\n",
    "#### Sign in to our bot\n",
    "bot = telebot.TeleBot(config.bot_token)\n",
    "\n",
    "def send_alert() :\n",
    "    bot.send_photo(config.telegram_id,open('detected.jpg','rb'))"
   ]
  }
 ],
 "metadata": {
  "kernelspec": {
   "display_name": "Python 3 (ipykernel)",
   "language": "python",
   "name": "python3"
  },
  "language_info": {
   "codemirror_mode": {
    "name": "ipython",
    "version": 3
   },
   "file_extension": ".py",
   "mimetype": "text/x-python",
   "name": "python",
   "nbconvert_exporter": "python",
   "pygments_lexer": "ipython3",
   "version": "3.8.0"
  }
 },
 "nbformat": 4,
 "nbformat_minor": 5
}
