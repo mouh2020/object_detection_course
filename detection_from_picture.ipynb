{
 "cells": [
  {
   "cell_type": "markdown",
   "id": "561cf4b1",
   "metadata": {},
   "source": [
    "# Import Libraries"
   ]
  },
  {
   "cell_type": "code",
   "execution_count": 4,
   "id": "f68cf91c",
   "metadata": {},
   "outputs": [
    {
     "ename": "ImportError",
     "evalue": "DLL load failed while importing cv2: %1 is not a valid Win32 application.",
     "output_type": "error",
     "traceback": [
      "\u001b[1;31m---------------------------------------------------------------------------\u001b[0m",
      "\u001b[1;31mImportError\u001b[0m                               Traceback (most recent call last)",
      "Cell \u001b[1;32mIn[4], line 2\u001b[0m\n\u001b[0;32m      1\u001b[0m \u001b[38;5;28;01mfrom\u001b[39;00m \u001b[38;5;21;01mtkinter\u001b[39;00m\u001b[38;5;21;01m.\u001b[39;00m\u001b[38;5;21;01mfiledialog\u001b[39;00m \u001b[38;5;28;01mimport\u001b[39;00m askopenfilename\n\u001b[1;32m----> 2\u001b[0m \u001b[38;5;28;01mfrom\u001b[39;00m \u001b[38;5;21;01mimageai\u001b[39;00m\u001b[38;5;21;01m.\u001b[39;00m\u001b[38;5;21;01mDetection\u001b[39;00m \u001b[38;5;28;01mimport\u001b[39;00m ObjectDetection\n\u001b[0;32m      3\u001b[0m \u001b[38;5;28;01mimport\u001b[39;00m \u001b[38;5;21;01mcv2\u001b[39;00m\u001b[38;5;241m,\u001b[39m\u001b[38;5;21;01mio\u001b[39;00m\n\u001b[0;32m      4\u001b[0m \u001b[38;5;28;01mfrom\u001b[39;00m \u001b[38;5;21;01malert\u001b[39;00m \u001b[38;5;28;01mimport\u001b[39;00m send_alert\n",
      "File \u001b[1;32m~\\AppData\\Roaming\\Python\\Python38\\site-packages\\imageai\\Detection\\__init__.py:1\u001b[0m\n\u001b[1;32m----> 1\u001b[0m \u001b[38;5;28;01mimport\u001b[39;00m \u001b[38;5;21;01mcv2\u001b[39;00m\n\u001b[0;32m      2\u001b[0m \u001b[38;5;28;01mfrom\u001b[39;00m \u001b[38;5;21;01mimageai\u001b[39;00m\u001b[38;5;21;01m.\u001b[39;00m\u001b[38;5;21;01mDetection\u001b[39;00m\u001b[38;5;21;01m.\u001b[39;00m\u001b[38;5;21;01mkeras_retinanet\u001b[39;00m \u001b[38;5;28;01mimport\u001b[39;00m models \u001b[38;5;28;01mas\u001b[39;00m retinanet_models\n\u001b[0;32m      3\u001b[0m \u001b[38;5;28;01mfrom\u001b[39;00m \u001b[38;5;21;01mimageai\u001b[39;00m\u001b[38;5;21;01m.\u001b[39;00m\u001b[38;5;21;01mDetection\u001b[39;00m\u001b[38;5;21;01m.\u001b[39;00m\u001b[38;5;21;01mkeras_retinanet\u001b[39;00m\u001b[38;5;21;01m.\u001b[39;00m\u001b[38;5;21;01mutils\u001b[39;00m\u001b[38;5;21;01m.\u001b[39;00m\u001b[38;5;21;01mimage\u001b[39;00m \u001b[38;5;28;01mimport\u001b[39;00m read_image_bgr, preprocess_image, resize_image\n",
      "\u001b[1;31mImportError\u001b[0m: DLL load failed while importing cv2: %1 is not a valid Win32 application."
     ]
    }
   ],
   "source": [
    "from tkinter.filedialog import askopenfilename\n",
    "from imageai.Detection import ObjectDetection\n",
    "import cv2,io\n",
    "from alert import send_alert"
   ]
  },
  {
   "cell_type": "markdown",
   "id": "976ce0bd",
   "metadata": {},
   "source": [
    "# Take an object of detection"
   ]
  },
  {
   "cell_type": "code",
   "execution_count": null,
   "id": "45c895e0",
   "metadata": {},
   "outputs": [],
   "source": [
    "detector = ObjectDetection()"
   ]
  },
  {
   "cell_type": "markdown",
   "id": "9f62f223",
   "metadata": {},
   "source": [
    "# Set the model type\n"
   ]
  },
  {
   "cell_type": "code",
   "execution_count": null,
   "id": "f3ba463a",
   "metadata": {},
   "outputs": [],
   "source": [
    "detector.setModelTypeAsYOLOv3()"
   ]
  },
  {
   "cell_type": "markdown",
   "id": "2c3d9ce0",
   "metadata": {},
   "source": [
    "# Set the model directory"
   ]
  },
  {
   "cell_type": "code",
   "execution_count": null,
   "id": "8fc4db38",
   "metadata": {},
   "outputs": [],
   "source": [
    "detector.setModelPath(\"yolo.h5\")"
   ]
  },
  {
   "cell_type": "markdown",
   "id": "6ad1118b",
   "metadata": {},
   "source": [
    "# Tell the user that the model is loading"
   ]
  },
  {
   "cell_type": "code",
   "execution_count": 2,
   "id": "58b051a9",
   "metadata": {},
   "outputs": [
    {
     "name": "stdout",
     "output_type": "stream",
     "text": [
      "\n",
      " - Start loading model ... \n"
     ]
    }
   ],
   "source": [
    "print('\\n - Start loading model ... ')"
   ]
  },
  {
   "cell_type": "markdown",
   "id": "757bbe6b",
   "metadata": {},
   "source": [
    "# Start loading model"
   ]
  },
  {
   "cell_type": "code",
   "execution_count": null,
   "id": "924dac79",
   "metadata": {},
   "outputs": [],
   "source": [
    "detector.loadModel()"
   ]
  },
  {
   "cell_type": "markdown",
   "id": "2a8e844c",
   "metadata": {},
   "source": [
    "# Window to select the picture"
   ]
  },
  {
   "cell_type": "code",
   "execution_count": 5,
   "id": "42c40f03",
   "metadata": {},
   "outputs": [],
   "source": [
    "filename = askopenfilename()"
   ]
  },
  {
   "cell_type": "markdown",
   "id": "286a95f8",
   "metadata": {},
   "source": [
    "# The objects to be detected on picture"
   ]
  },
  {
   "cell_type": "code",
   "execution_count": null,
   "id": "82d4eb77",
   "metadata": {},
   "outputs": [],
   "source": [
    "#custom_objects = detector.CustomObjects()\n"
   ]
  },
  {
   "cell_type": "markdown",
   "id": "ab00e950",
   "metadata": {},
   "source": [
    "# Start detection from image"
   ]
  },
  {
   "cell_type": "code",
   "execution_count": null,
   "id": "cad69006",
   "metadata": {},
   "outputs": [],
   "source": [
    "detections = detector.detectObjectsFromImage(#custom_objects=custom_objects,   #### Paste objects which we want to detect\n",
    "                                             input_image= filename,             #### The picture path\n",
    "                                             output_image_path=\"detected.jpg\", #### The detected image path\n",
    "                                             minimum_percentage_probability=30)#### Minimum percentage for detection"
   ]
  },
  {
   "cell_type": "markdown",
   "id": "6c951e76",
   "metadata": {},
   "source": [
    "# Print results of detection ( name of the object , probability and object coordinate in picture)"
   ]
  },
  {
   "cell_type": "code",
   "execution_count": null,
   "id": "55d02ebf",
   "metadata": {},
   "outputs": [],
   "source": [
    "for eachObject in detections:\n",
    "    print(\"\\n - \" + eachObject[\"name\"] , \" : \", eachObject[\"percentage_probability\"], \" : \", eachObject[\"box_points\"] )\n",
    "    print(\"\\n--------------------------------\")\n",
    "    if eachObject[\"name\"] == 'person' : \n",
    "        detected_image = cv2.imread('detected.jpg')\n",
    "        send_alert()"
   ]
  },
  {
   "cell_type": "markdown",
   "id": "63033ce5",
   "metadata": {},
   "source": [
    "# Read the detected picture "
   ]
  },
  {
   "cell_type": "code",
   "execution_count": null,
   "id": "0f2ba844",
   "metadata": {},
   "outputs": [],
   "source": [
    "detected_image = cv2.imread('detected.jpg')"
   ]
  },
  {
   "cell_type": "markdown",
   "id": "81768fee",
   "metadata": {},
   "source": [
    "# Display the detected picture "
   ]
  },
  {
   "cell_type": "code",
   "execution_count": null,
   "id": "92093237",
   "metadata": {},
   "outputs": [],
   "source": [
    "cv2.imshow('frame', detected_image)\n"
   ]
  },
  {
   "cell_type": "markdown",
   "id": "d3cad720",
   "metadata": {},
   "source": [
    "# Set q Key to exit the program"
   ]
  },
  {
   "cell_type": "code",
   "execution_count": 2,
   "id": "ccc8747b",
   "metadata": {},
   "outputs": [
    {
     "ename": "NameError",
     "evalue": "name 'cv2' is not defined",
     "output_type": "error",
     "traceback": [
      "\u001b[1;31m---------------------------------------------------------------------------\u001b[0m",
      "\u001b[1;31mNameError\u001b[0m                                 Traceback (most recent call last)",
      "Cell \u001b[1;32mIn[2], line 1\u001b[0m\n\u001b[1;32m----> 1\u001b[0m \u001b[38;5;28;01mif\u001b[39;00m \u001b[43mcv2\u001b[49m\u001b[38;5;241m.\u001b[39mwaitKey(\u001b[38;5;241m0\u001b[39m) \u001b[38;5;241m==\u001b[39m \u001b[38;5;28mord\u001b[39m(\u001b[38;5;124m'\u001b[39m\u001b[38;5;124mq\u001b[39m\u001b[38;5;124m'\u001b[39m):\n\u001b[0;32m      2\u001b[0m     exit()\n",
      "\u001b[1;31mNameError\u001b[0m: name 'cv2' is not defined"
     ]
    }
   ],
   "source": [
    "if cv2.waitKey(0) == ord('q'):\n",
    "    exit()"
   ]
  },
  {
   "cell_type": "code",
   "execution_count": null,
   "id": "bcb7e3a3",
   "metadata": {},
   "outputs": [],
   "source": []
  }
 ],
 "metadata": {
  "kernelspec": {
   "display_name": "Python 3 (ipykernel)",
   "language": "python",
   "name": "python3"
  },
  "language_info": {
   "codemirror_mode": {
    "name": "ipython",
    "version": 3
   },
   "file_extension": ".py",
   "mimetype": "text/x-python",
   "name": "python",
   "nbconvert_exporter": "python",
   "pygments_lexer": "ipython3",
   "version": "3.8.0"
  }
 },
 "nbformat": 4,
 "nbformat_minor": 5
}
